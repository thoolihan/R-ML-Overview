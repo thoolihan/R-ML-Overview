{
 "cells": [
  {
   "cell_type": "markdown",
   "metadata": {},
   "source": [
    "# Cars\n",
    "* examine the data\n",
    "* examine the types\n",
    "* look at the dimensions"
   ]
  },
  {
   "cell_type": "code",
   "execution_count": 15,
   "metadata": {
    "collapsed": false
   },
   "outputs": [
    {
     "data": {
      "text/html": [
       "<table>\n",
       "<thead><tr><th></th><th scope=col>mpg</th><th scope=col>cyl</th><th scope=col>disp</th><th scope=col>hp</th><th scope=col>drat</th><th scope=col>wt</th><th scope=col>qsec</th><th scope=col>vs</th><th scope=col>am</th><th scope=col>gear</th><th scope=col>carb</th></tr></thead>\n",
       "<tbody>\n",
       "\t<tr><th scope=row>Mazda RX4</th><td>21   </td><td>6    </td><td>160  </td><td>110  </td><td>3.9  </td><td>2.62 </td><td>16.46</td><td>0    </td><td>1    </td><td>4    </td><td>4    </td></tr>\n",
       "\t<tr><th scope=row>Mazda RX4 Wag</th><td>21   </td><td>6    </td><td>160  </td><td>110  </td><td>3.9  </td><td>2.875</td><td>17.02</td><td>0    </td><td>1    </td><td>4    </td><td>4    </td></tr>\n",
       "\t<tr><th scope=row>Datsun 710</th><td>22.8 </td><td>4    </td><td>108  </td><td>93   </td><td>3.85 </td><td>2.32 </td><td>18.61</td><td>1    </td><td>1    </td><td>4    </td><td>1    </td></tr>\n",
       "\t<tr><th scope=row>Hornet 4 Drive</th><td>21.4 </td><td>6    </td><td>258  </td><td>110  </td><td>3.08 </td><td>3.215</td><td>19.44</td><td>1    </td><td>0    </td><td>3    </td><td>1    </td></tr>\n",
       "\t<tr><th scope=row>Hornet Sportabout</th><td>18.7 </td><td>8    </td><td>360  </td><td>175  </td><td>3.15 </td><td>3.44 </td><td>17.02</td><td>0    </td><td>0    </td><td>3    </td><td>2    </td></tr>\n",
       "\t<tr><th scope=row>Valiant</th><td>18.1 </td><td>6    </td><td>225  </td><td>105  </td><td>2.76 </td><td>3.46 </td><td>20.22</td><td>1    </td><td>0    </td><td>3    </td><td>1    </td></tr>\n",
       "</tbody>\n",
       "</table>\n"
      ],
      "text/latex": [
       "\\begin{tabular}{r|lllllllllll}\n",
       "  & mpg & cyl & disp & hp & drat & wt & qsec & vs & am & gear & carb\\\\\n",
       "\\hline\n",
       "\tMazda RX4 & 21    & 6     & 160   & 110   & 3.9   & 2.62  & 16.46 & 0     & 1     & 4     & 4    \\\\\n",
       "\tMazda RX4 Wag & 21    & 6     & 160   & 110   & 3.9   & 2.875 & 17.02 & 0     & 1     & 4     & 4    \\\\\n",
       "\tDatsun 710 & 22.8  & 4     & 108   & 93    & 3.85  & 2.32  & 18.61 & 1     & 1     & 4     & 1    \\\\\n",
       "\tHornet 4 Drive & 21.4  & 6     & 258   & 110   & 3.08  & 3.215 & 19.44 & 1     & 0     & 3     & 1    \\\\\n",
       "\tHornet Sportabout & 18.7  & 8     & 360   & 175   & 3.15  & 3.44  & 17.02 & 0     & 0     & 3     & 2    \\\\\n",
       "\tValiant & 18.1  & 6     & 225   & 105   & 2.76  & 3.46  & 20.22 & 1     & 0     & 3     & 1    \\\\\n",
       "\\end{tabular}\n"
      ],
      "text/plain": [
       "                   mpg cyl disp  hp drat    wt  qsec vs am gear carb\n",
       "Mazda RX4         21.0   6  160 110 3.90 2.620 16.46  0  1    4    4\n",
       "Mazda RX4 Wag     21.0   6  160 110 3.90 2.875 17.02  0  1    4    4\n",
       "Datsun 710        22.8   4  108  93 3.85 2.320 18.61  1  1    4    1\n",
       "Hornet 4 Drive    21.4   6  258 110 3.08 3.215 19.44  1  0    3    1\n",
       "Hornet Sportabout 18.7   8  360 175 3.15 3.440 17.02  0  0    3    2\n",
       "Valiant           18.1   6  225 105 2.76 3.460 20.22  1  0    3    1"
      ]
     },
     "execution_count": 15,
     "metadata": {},
     "output_type": "execute_result"
    },
    {
     "data": {
      "text/html": [
       "<dl class=dl-horizontal>\n",
       "\t<dt>mpg</dt>\n",
       "\t\t<dd>'numeric'</dd>\n",
       "\t<dt>cyl</dt>\n",
       "\t\t<dd>'factor'</dd>\n",
       "\t<dt>disp</dt>\n",
       "\t\t<dd>'numeric'</dd>\n",
       "\t<dt>hp</dt>\n",
       "\t\t<dd>'numeric'</dd>\n",
       "\t<dt>drat</dt>\n",
       "\t\t<dd>'numeric'</dd>\n",
       "\t<dt>wt</dt>\n",
       "\t\t<dd>'numeric'</dd>\n",
       "\t<dt>qsec</dt>\n",
       "\t\t<dd>'numeric'</dd>\n",
       "\t<dt>vs</dt>\n",
       "\t\t<dd>'numeric'</dd>\n",
       "\t<dt>am</dt>\n",
       "\t\t<dd>'numeric'</dd>\n",
       "\t<dt>gear</dt>\n",
       "\t\t<dd>'numeric'</dd>\n",
       "\t<dt>carb</dt>\n",
       "\t\t<dd>'numeric'</dd>\n",
       "</dl>\n"
      ],
      "text/latex": [
       "\\begin{description*}\n",
       "\\item[mpg] 'numeric'\n",
       "\\item[cyl] 'factor'\n",
       "\\item[disp] 'numeric'\n",
       "\\item[hp] 'numeric'\n",
       "\\item[drat] 'numeric'\n",
       "\\item[wt] 'numeric'\n",
       "\\item[qsec] 'numeric'\n",
       "\\item[vs] 'numeric'\n",
       "\\item[am] 'numeric'\n",
       "\\item[gear] 'numeric'\n",
       "\\item[carb] 'numeric'\n",
       "\\end{description*}\n"
      ],
      "text/markdown": [
       "mpg\n",
       ":   'numeric'cyl\n",
       ":   'factor'disp\n",
       ":   'numeric'hp\n",
       ":   'numeric'drat\n",
       ":   'numeric'wt\n",
       ":   'numeric'qsec\n",
       ":   'numeric'vs\n",
       ":   'numeric'am\n",
       ":   'numeric'gear\n",
       ":   'numeric'carb\n",
       ":   'numeric'\n",
       "\n"
      ],
      "text/plain": [
       "      mpg       cyl      disp        hp      drat        wt      qsec        vs \n",
       "\"numeric\"  \"factor\" \"numeric\" \"numeric\" \"numeric\" \"numeric\" \"numeric\" \"numeric\" \n",
       "       am      gear      carb \n",
       "\"numeric\" \"numeric\" \"numeric\" "
      ]
     },
     "execution_count": 15,
     "metadata": {},
     "output_type": "execute_result"
    },
    {
     "data": {
      "text/html": [
       "<ol class=list-inline>\n",
       "\t<li>32</li>\n",
       "\t<li>11</li>\n",
       "</ol>\n"
      ],
      "text/latex": [
       "\\begin{enumerate*}\n",
       "\\item 32\n",
       "\\item 11\n",
       "\\end{enumerate*}\n"
      ],
      "text/markdown": [
       "1. 32\n",
       "2. 11\n",
       "\n",
       "\n"
      ],
      "text/plain": [
       "[1] 32 11"
      ]
     },
     "execution_count": 15,
     "metadata": {},
     "output_type": "execute_result"
    }
   ],
   "source": [
    "head(mtcars)\n",
    "\n",
    "sapply(mtcars, class)\n",
    "dim(mtcars)"
   ]
  },
  {
   "cell_type": "markdown",
   "metadata": {},
   "source": [
    "* load the caret library\n",
    "* use it to partition data into train and test sets\n",
    "* examine dimensions of those sets"
   ]
  },
  {
   "cell_type": "code",
   "execution_count": 9,
   "metadata": {
    "collapsed": false
   },
   "outputs": [
    {
     "data": {
      "text/html": [
       "<ol class=list-inline>\n",
       "\t<li>27</li>\n",
       "\t<li>11</li>\n",
       "</ol>\n"
      ],
      "text/latex": [
       "\\begin{enumerate*}\n",
       "\\item 27\n",
       "\\item 11\n",
       "\\end{enumerate*}\n"
      ],
      "text/markdown": [
       "1. 27\n",
       "2. 11\n",
       "\n",
       "\n"
      ],
      "text/plain": [
       "[1] 27 11"
      ]
     },
     "execution_count": 9,
     "metadata": {},
     "output_type": "execute_result"
    },
    {
     "data": {
      "text/html": [
       "<ol class=list-inline>\n",
       "\t<li>5</li>\n",
       "\t<li>11</li>\n",
       "</ol>\n"
      ],
      "text/latex": [
       "\\begin{enumerate*}\n",
       "\\item 5\n",
       "\\item 11\n",
       "\\end{enumerate*}\n"
      ],
      "text/markdown": [
       "1. 5\n",
       "2. 11\n",
       "\n",
       "\n"
      ],
      "text/plain": [
       "[1]  5 11"
      ]
     },
     "execution_count": 9,
     "metadata": {},
     "output_type": "execute_result"
    }
   ],
   "source": [
    "library(caret)\n",
    "set.seed(1024)\n",
    "index.train <- createDataPartition(mtcars$cyl, p = 0.8, list = FALSE)\n",
    "train = mtcars[index.train,]\n",
    "test  = mtcars[-(index.train), ]\n",
    "\n",
    "dim(train)\n",
    "dim(test)"
   ]
  },
  {
   "cell_type": "markdown",
   "metadata": {},
   "source": [
    "* use glm() to create a model of mpg based on hp\n",
    "* inspect the model"
   ]
  },
  {
   "cell_type": "code",
   "execution_count": 12,
   "metadata": {
    "collapsed": false
   },
   "outputs": [
    {
     "data": {
      "text/plain": [
       "\n",
       "Call:  glm(formula = mpg ~ hp, data = train)\n",
       "\n",
       "Coefficients:\n",
       "(Intercept)           hp  \n",
       "   29.00751     -0.05889  \n",
       "\n",
       "Degrees of Freedom: 26 Total (i.e. Null);  25 Residual\n",
       "Null Deviance:\t    739 \n",
       "Residual Deviance: 291.6 \tAIC: 146.9"
      ]
     },
     "execution_count": 12,
     "metadata": {},
     "output_type": "execute_result"
    }
   ],
   "source": [
    "model <- glm(mpg ~ hp, data = train)\n",
    "model"
   ]
  },
  {
   "cell_type": "markdown",
   "metadata": {},
   "source": [
    "hp model reduces degrees of freedom by only 1, while drastically lower deviance. This implies HP is a significant factor. \n",
    "\n",
    "Model is mpg = 29.00751 - hp * 0.05889\n",
    "\n",
    "below, we use that to predict mpg on our test set"
   ]
  },
  {
   "cell_type": "code",
   "execution_count": 18,
   "metadata": {
    "collapsed": false
   },
   "outputs": [
    {
     "data": {
      "text/html": [
       "<table>\n",
       "<thead><tr><th></th><th scope=col>hp</th><th scope=col>mpg</th><th scope=col>predicted</th></tr></thead>\n",
       "<tbody>\n",
       "\t<tr><th scope=row>Merc 280C</th><td>123.00000</td><td> 17.80000</td><td> 21.76413</td></tr>\n",
       "\t<tr><th scope=row>Cadillac Fleetwood</th><td>205.0000</td><td> 10.4000</td><td> 16.9352</td></tr>\n",
       "\t<tr><th scope=row>Lincoln Continental</th><td>215.00000</td><td> 10.40000</td><td> 16.34631</td></tr>\n",
       "\t<tr><th scope=row>Toyota Corolla</th><td>65.00000</td><td>33.90000</td><td>25.17971</td></tr>\n",
       "\t<tr><th scope=row>Volvo 142E</th><td>109.00000</td><td> 21.40000</td><td> 22.58858</td></tr>\n",
       "</tbody>\n",
       "</table>\n"
      ],
      "text/latex": [
       "\\begin{tabular}{r|lll}\n",
       "  & hp & mpg & predicted\\\\\n",
       "\\hline\n",
       "\tMerc 280C & 123.00000 &  17.80000 &  21.76413\\\\\n",
       "\tCadillac Fleetwood & 205.0000 &  10.4000 &  16.9352\\\\\n",
       "\tLincoln Continental & 215.00000 &  10.40000 &  16.34631\\\\\n",
       "\tToyota Corolla & 65.00000 & 33.90000 & 25.17971\\\\\n",
       "\tVolvo 142E & 109.00000 &  21.40000 &  22.58858\\\\\n",
       "\\end{tabular}\n"
      ],
      "text/plain": [
       "                     hp  mpg predicted\n",
       "Merc 280C           123 17.8  21.76413\n",
       "Cadillac Fleetwood  205 10.4  16.93520\n",
       "Lincoln Continental 215 10.4  16.34631\n",
       "Toyota Corolla       65 33.9  25.17971\n",
       "Volvo 142E          109 21.4  22.58858"
      ]
     },
     "execution_count": 18,
     "metadata": {},
     "output_type": "execute_result"
    }
   ],
   "source": [
    "test$predicted <- predict(model, test)\n",
    "test[, c('hp', 'mpg', 'predicted')]"
   ]
  },
  {
   "cell_type": "code",
   "execution_count": 34,
   "metadata": {
    "collapsed": false
   },
   "outputs": [
    {
     "data": {
      "image/png": "[encoded data removed]",
      "image/svg+xml": [
       "<?xml version=\"1.0\" encoding=\"UTF-8\"?>\n",
       "<svg xmlns=\"http://www.w3.org/2000/svg\" xmlns:xlink=\"http://www.w3.org/1999/xlink\" width=\"504pt\" height=\"504pt\" viewBox=\"0 0 504 504\" version=\"1.1\">\n",
       "<defs>\n",
       "<g>\n",
       "<symbol overflow=\"visible\" id=\"glyph0-0\">\n",
       "<path style=\"stroke:none;\" d=\"M 0.296875 0 L 0.296875 -6.671875 L 5.59375 -6.671875 L 5.59375 0 Z M 4.75 -0.828125 L 4.75 -5.828125 L 1.140625 -5.828125 L 1.140625 -0.828125 Z \"/>\n",
       "</symbol>\n",
       "<symbol overflow=\"visible\" id=\"glyph0-1\">\n",
       "<path style=\"stroke:none;\" d=\"M 0.890625 -4.609375 L 0.890625 -5.234375 C 1.484375 -5.285156 1.894531 -5.378906 2.125 -5.515625 C 2.351562 -5.648438 2.523438 -5.96875 2.640625 -6.46875 L 3.296875 -6.46875 L 3.296875 0 L 2.421875 0 L 2.421875 -4.609375 Z \"/>\n",
       "</symbol>\n",
       "<symbol overflow=\"visible\" id=\"glyph0-2\">\n",
       "<path style=\"stroke:none;\" d=\"M 2.515625 -6.5 C 3.359375 -6.5 3.96875 -6.15625 4.34375 -5.46875 C 4.632812 -4.925781 4.78125 -4.191406 4.78125 -3.265625 C 4.78125 -2.378906 4.644531 -1.644531 4.375 -1.0625 C 4 -0.238281 3.378906 0.171875 2.515625 0.171875 C 1.734375 0.171875 1.148438 -0.164062 0.765625 -0.84375 C 0.453125 -1.40625 0.296875 -2.164062 0.296875 -3.125 C 0.296875 -3.851562 0.390625 -4.484375 0.578125 -5.015625 C 0.929688 -6.003906 1.578125 -6.5 2.515625 -6.5 Z M 2.5 -0.5625 C 2.925781 -0.5625 3.265625 -0.75 3.515625 -1.125 C 3.765625 -1.5 3.890625 -2.203125 3.890625 -3.234375 C 3.890625 -3.960938 3.796875 -4.566406 3.609375 -5.046875 C 3.429688 -5.523438 3.082031 -5.765625 2.5625 -5.765625 C 2.082031 -5.765625 1.726562 -5.535156 1.5 -5.078125 C 1.28125 -4.628906 1.171875 -3.96875 1.171875 -3.09375 C 1.171875 -2.425781 1.242188 -1.890625 1.390625 -1.484375 C 1.609375 -0.867188 1.976562 -0.5625 2.5 -0.5625 Z \"/>\n",
       "</symbol>\n",
       "<symbol overflow=\"visible\" id=\"glyph0-3\">\n",
       "<path style=\"stroke:none;\" d=\"M 1.15625 -1.65625 C 1.207031 -1.1875 1.421875 -0.863281 1.796875 -0.6875 C 1.992188 -0.59375 2.21875 -0.546875 2.46875 -0.546875 C 2.957031 -0.546875 3.316406 -0.703125 3.546875 -1.015625 C 3.773438 -1.328125 3.890625 -1.671875 3.890625 -2.046875 C 3.890625 -2.492188 3.75 -2.84375 3.46875 -3.09375 C 3.195312 -3.34375 2.867188 -3.46875 2.484375 -3.46875 C 2.203125 -3.46875 1.957031 -3.410156 1.75 -3.296875 C 1.550781 -3.191406 1.382812 -3.039062 1.25 -2.84375 L 0.53125 -2.890625 L 1.03125 -6.390625 L 4.40625 -6.390625 L 4.40625 -5.609375 L 1.640625 -5.609375 L 1.359375 -3.796875 C 1.515625 -3.910156 1.660156 -3.992188 1.796875 -4.046875 C 2.035156 -4.148438 2.316406 -4.203125 2.640625 -4.203125 C 3.234375 -4.203125 3.738281 -4.007812 4.15625 -3.625 C 4.570312 -3.238281 4.78125 -2.753906 4.78125 -2.171875 C 4.78125 -1.554688 4.585938 -1.015625 4.203125 -0.546875 C 3.828125 -0.078125 3.222656 0.15625 2.390625 0.15625 C 1.859375 0.15625 1.390625 0.0078125 0.984375 -0.28125 C 0.578125 -0.582031 0.347656 -1.039062 0.296875 -1.65625 Z \"/>\n",
       "</symbol>\n",
       "<symbol overflow=\"visible\" id=\"glyph0-4\">\n",
       "<path style=\"stroke:none;\" d=\"M 0.296875 0 C 0.316406 -0.5625 0.425781 -1.046875 0.625 -1.453125 C 0.832031 -1.867188 1.226562 -2.25 1.8125 -2.59375 L 2.6875 -3.09375 C 3.070312 -3.320312 3.347656 -3.515625 3.515625 -3.671875 C 3.753906 -3.921875 3.875 -4.210938 3.875 -4.546875 C 3.875 -4.921875 3.757812 -5.21875 3.53125 -5.4375 C 3.3125 -5.664062 3.015625 -5.78125 2.640625 -5.78125 C 2.078125 -5.78125 1.6875 -5.566406 1.46875 -5.140625 C 1.351562 -4.910156 1.289062 -4.59375 1.28125 -4.1875 L 0.453125 -4.1875 C 0.460938 -4.757812 0.566406 -5.222656 0.765625 -5.578125 C 1.117188 -6.203125 1.742188 -6.515625 2.640625 -6.515625 C 3.378906 -6.515625 3.921875 -6.3125 4.265625 -5.90625 C 4.609375 -5.507812 4.78125 -5.066406 4.78125 -4.578125 C 4.78125 -4.054688 4.597656 -3.609375 4.234375 -3.234375 C 4.023438 -3.023438 3.644531 -2.765625 3.09375 -2.453125 L 2.46875 -2.109375 C 2.175781 -1.953125 1.945312 -1.796875 1.78125 -1.640625 C 1.476562 -1.378906 1.285156 -1.085938 1.203125 -0.765625 L 4.75 -0.765625 L 4.75 0 Z \"/>\n",
       "</symbol>\n",
       "<symbol overflow=\"visible\" id=\"glyph0-5\">\n",
       "<path style=\"stroke:none;\" d=\"M 2.421875 0.171875 C 1.648438 0.171875 1.085938 -0.0351562 0.734375 -0.453125 C 0.390625 -0.878906 0.21875 -1.394531 0.21875 -2 L 1.078125 -2 C 1.109375 -1.570312 1.1875 -1.265625 1.3125 -1.078125 C 1.519531 -0.734375 1.898438 -0.5625 2.453125 -0.5625 C 2.890625 -0.5625 3.238281 -0.675781 3.5 -0.90625 C 3.757812 -1.132812 3.890625 -1.429688 3.890625 -1.796875 C 3.890625 -2.242188 3.75 -2.554688 3.46875 -2.734375 C 3.195312 -2.921875 2.816406 -3.015625 2.328125 -3.015625 C 2.273438 -3.015625 2.21875 -3.007812 2.15625 -3 C 2.101562 -3 2.050781 -3 2 -3 L 2 -3.71875 C 2.082031 -3.707031 2.148438 -3.703125 2.203125 -3.703125 C 2.265625 -3.703125 2.328125 -3.703125 2.390625 -3.703125 C 2.703125 -3.703125 2.957031 -3.75 3.15625 -3.84375 C 3.5 -4.007812 3.671875 -4.3125 3.671875 -4.75 C 3.671875 -5.070312 3.554688 -5.320312 3.328125 -5.5 C 3.097656 -5.675781 2.828125 -5.765625 2.515625 -5.765625 C 1.972656 -5.765625 1.597656 -5.582031 1.390625 -5.21875 C 1.273438 -5.019531 1.207031 -4.734375 1.1875 -4.359375 L 0.390625 -4.359375 C 0.390625 -4.847656 0.484375 -5.265625 0.671875 -5.609375 C 1.003906 -6.210938 1.59375 -6.515625 2.4375 -6.515625 C 3.09375 -6.515625 3.601562 -6.363281 3.96875 -6.0625 C 4.332031 -5.769531 4.515625 -5.34375 4.515625 -4.78125 C 4.515625 -4.382812 4.40625 -4.0625 4.1875 -3.8125 C 4.0625 -3.65625 3.890625 -3.535156 3.671875 -3.453125 C 4.015625 -3.359375 4.28125 -3.175781 4.46875 -2.90625 C 4.664062 -2.632812 4.765625 -2.304688 4.765625 -1.921875 C 4.765625 -1.304688 4.5625 -0.800781 4.15625 -0.40625 C 3.75 -0.0195312 3.171875 0.171875 2.421875 0.171875 Z \"/>\n",
       "</symbol>\n",
       "<symbol overflow=\"visible\" id=\"glyph0-6\">\n",
       "<path style=\"stroke:none;\" d=\"M 0.59375 -4.859375 L 1.40625 -4.859375 L 1.40625 -4.171875 C 1.601562 -4.410156 1.78125 -4.582031 1.9375 -4.6875 C 2.207031 -4.875 2.507812 -4.96875 2.84375 -4.96875 C 3.238281 -4.96875 3.550781 -4.875 3.78125 -4.6875 C 3.914062 -4.570312 4.039062 -4.410156 4.15625 -4.203125 C 4.332031 -4.460938 4.539062 -4.65625 4.78125 -4.78125 C 5.03125 -4.90625 5.304688 -4.96875 5.609375 -4.96875 C 6.265625 -4.96875 6.710938 -4.734375 6.953125 -4.265625 C 7.078125 -4.003906 7.140625 -3.660156 7.140625 -3.234375 L 7.140625 0 L 6.296875 0 L 6.296875 -3.375 C 6.296875 -3.695312 6.210938 -3.914062 6.046875 -4.03125 C 5.890625 -4.15625 5.691406 -4.21875 5.453125 -4.21875 C 5.128906 -4.21875 4.851562 -4.109375 4.625 -3.890625 C 4.394531 -3.679688 4.28125 -3.328125 4.28125 -2.828125 L 4.28125 0 L 3.453125 0 L 3.453125 -3.171875 C 3.453125 -3.503906 3.410156 -3.742188 3.328125 -3.890625 C 3.203125 -4.117188 2.972656 -4.234375 2.640625 -4.234375 C 2.328125 -4.234375 2.046875 -4.113281 1.796875 -3.875 C 1.546875 -3.632812 1.421875 -3.203125 1.421875 -2.578125 L 1.421875 0 L 0.59375 0 Z \"/>\n",
       "</symbol>\n",
       "<symbol overflow=\"visible\" id=\"glyph0-7\">\n",
       "<path style=\"stroke:none;\" d=\"M 2.65625 -0.546875 C 3.03125 -0.546875 3.34375 -0.703125 3.59375 -1.015625 C 3.851562 -1.335938 3.984375 -1.816406 3.984375 -2.453125 C 3.984375 -2.847656 3.925781 -3.179688 3.8125 -3.453125 C 3.601562 -3.992188 3.21875 -4.265625 2.65625 -4.265625 C 2.082031 -4.265625 1.691406 -3.976562 1.484375 -3.40625 C 1.378906 -3.101562 1.328125 -2.722656 1.328125 -2.265625 C 1.328125 -1.890625 1.378906 -1.566406 1.484375 -1.296875 C 1.703125 -0.796875 2.09375 -0.546875 2.65625 -0.546875 Z M 0.53125 -4.84375 L 1.328125 -4.84375 L 1.328125 -4.1875 C 1.492188 -4.414062 1.671875 -4.585938 1.859375 -4.703125 C 2.140625 -4.890625 2.46875 -4.984375 2.84375 -4.984375 C 3.382812 -4.984375 3.847656 -4.769531 4.234375 -4.34375 C 4.617188 -3.925781 4.8125 -3.320312 4.8125 -2.53125 C 4.8125 -1.476562 4.535156 -0.722656 3.984375 -0.265625 C 3.628906 0.015625 3.222656 0.15625 2.765625 0.15625 C 2.390625 0.15625 2.082031 0.078125 1.84375 -0.078125 C 1.695312 -0.171875 1.535156 -0.328125 1.359375 -0.546875 L 1.359375 1.9375 L 0.53125 1.9375 Z \"/>\n",
       "</symbol>\n",
       "<symbol overflow=\"visible\" id=\"glyph0-8\">\n",
       "<path style=\"stroke:none;\" d=\"M 2.3125 -4.953125 C 2.695312 -4.953125 3.03125 -4.859375 3.3125 -4.671875 C 3.46875 -4.554688 3.625 -4.398438 3.78125 -4.203125 L 3.78125 -4.8125 L 4.546875 -4.8125 L 4.546875 -0.390625 C 4.546875 0.222656 4.453125 0.707031 4.265625 1.0625 C 3.929688 1.726562 3.289062 2.0625 2.34375 2.0625 C 1.820312 2.0625 1.378906 1.941406 1.015625 1.703125 C 0.660156 1.472656 0.460938 1.109375 0.421875 0.609375 L 1.25 0.609375 C 1.289062 0.828125 1.375 0.992188 1.5 1.109375 C 1.675781 1.285156 1.960938 1.375 2.359375 1.375 C 2.992188 1.375 3.40625 1.15625 3.59375 0.71875 C 3.707031 0.457031 3.757812 -0.00390625 3.75 -0.671875 C 3.59375 -0.421875 3.394531 -0.234375 3.15625 -0.109375 C 2.925781 0.00390625 2.625 0.0625 2.25 0.0625 C 1.726562 0.0625 1.269531 -0.125 0.875 -0.5 C 0.476562 -0.875 0.28125 -1.492188 0.28125 -2.359375 C 0.28125 -3.171875 0.476562 -3.804688 0.875 -4.265625 C 1.269531 -4.722656 1.75 -4.953125 2.3125 -4.953125 Z M 3.78125 -2.453125 C 3.78125 -3.054688 3.65625 -3.5 3.40625 -3.78125 C 3.164062 -4.070312 2.851562 -4.21875 2.46875 -4.21875 C 1.894531 -4.21875 1.5 -3.953125 1.28125 -3.421875 C 1.164062 -3.128906 1.109375 -2.75 1.109375 -2.28125 C 1.109375 -1.738281 1.21875 -1.320312 1.4375 -1.03125 C 1.664062 -0.75 1.96875 -0.609375 2.34375 -0.609375 C 2.9375 -0.609375 3.351562 -0.875 3.59375 -1.40625 C 3.71875 -1.707031 3.78125 -2.054688 3.78125 -2.453125 Z M 2.40625 -4.984375 Z \"/>\n",
       "</symbol>\n",
       "<symbol overflow=\"visible\" id=\"glyph0-9\">\n",
       "<path style=\"stroke:none;\" d=\"M 0.625 -4.859375 L 1.390625 -4.859375 L 1.390625 -4.015625 C 1.460938 -4.179688 1.617188 -4.378906 1.859375 -4.609375 C 2.109375 -4.847656 2.394531 -4.96875 2.71875 -4.96875 C 2.738281 -4.96875 2.765625 -4.96875 2.796875 -4.96875 C 2.835938 -4.96875 2.898438 -4.960938 2.984375 -4.953125 L 2.984375 -4.078125 C 2.941406 -4.085938 2.898438 -4.09375 2.859375 -4.09375 C 2.816406 -4.101562 2.769531 -4.109375 2.71875 -4.109375 C 2.3125 -4.109375 1.992188 -3.972656 1.765625 -3.703125 C 1.546875 -3.441406 1.4375 -3.140625 1.4375 -2.796875 L 1.4375 0 L 0.625 0 Z \"/>\n",
       "</symbol>\n",
       "<symbol overflow=\"visible\" id=\"glyph0-10\">\n",
       "<path style=\"stroke:none;\" d=\"M 2.625 -4.96875 C 2.96875 -4.96875 3.300781 -4.882812 3.625 -4.71875 C 3.945312 -4.5625 4.191406 -4.351562 4.359375 -4.09375 C 4.523438 -3.851562 4.632812 -3.566406 4.6875 -3.234375 C 4.738281 -3.015625 4.765625 -2.660156 4.765625 -2.171875 L 1.203125 -2.171875 C 1.210938 -1.679688 1.328125 -1.285156 1.546875 -0.984375 C 1.765625 -0.679688 2.101562 -0.53125 2.5625 -0.53125 C 2.988281 -0.53125 3.332031 -0.671875 3.59375 -0.953125 C 3.726562 -1.117188 3.828125 -1.3125 3.890625 -1.53125 L 4.703125 -1.53125 C 4.679688 -1.34375 4.609375 -1.140625 4.484375 -0.921875 C 4.367188 -0.703125 4.234375 -0.523438 4.078125 -0.390625 C 3.835938 -0.148438 3.53125 0.0078125 3.15625 0.09375 C 2.96875 0.144531 2.75 0.171875 2.5 0.171875 C 1.894531 0.171875 1.378906 -0.046875 0.953125 -0.484375 C 0.535156 -0.929688 0.328125 -1.550781 0.328125 -2.34375 C 0.328125 -3.125 0.535156 -3.753906 0.953125 -4.234375 C 1.378906 -4.722656 1.9375 -4.96875 2.625 -4.96875 Z M 3.921875 -2.8125 C 3.890625 -3.164062 3.8125 -3.453125 3.6875 -3.671875 C 3.46875 -4.066406 3.097656 -4.265625 2.578125 -4.265625 C 2.203125 -4.265625 1.882812 -4.128906 1.625 -3.859375 C 1.375 -3.585938 1.238281 -3.238281 1.21875 -2.8125 Z M 2.546875 -4.984375 Z \"/>\n",
       "</symbol>\n",
       "<symbol overflow=\"visible\" id=\"glyph0-11\">\n",
       "<path style=\"stroke:none;\" d=\"M 1.109375 -2.375 C 1.109375 -1.851562 1.21875 -1.414062 1.4375 -1.0625 C 1.664062 -0.71875 2.023438 -0.546875 2.515625 -0.546875 C 2.890625 -0.546875 3.195312 -0.707031 3.4375 -1.03125 C 3.6875 -1.351562 3.8125 -1.816406 3.8125 -2.421875 C 3.8125 -3.035156 3.6875 -3.488281 3.4375 -3.78125 C 3.1875 -4.082031 2.875 -4.234375 2.5 -4.234375 C 2.09375 -4.234375 1.757812 -4.078125 1.5 -3.765625 C 1.238281 -3.453125 1.109375 -2.988281 1.109375 -2.375 Z M 2.34375 -4.953125 C 2.71875 -4.953125 3.03125 -4.875 3.28125 -4.71875 C 3.425781 -4.625 3.59375 -4.460938 3.78125 -4.234375 L 3.78125 -6.6875 L 4.5625 -6.6875 L 4.5625 0 L 3.828125 0 L 3.828125 -0.671875 C 3.640625 -0.378906 3.414062 -0.164062 3.15625 -0.03125 C 2.894531 0.101562 2.59375 0.171875 2.25 0.171875 C 1.707031 0.171875 1.238281 -0.0507812 0.84375 -0.5 C 0.445312 -0.957031 0.25 -1.566406 0.25 -2.328125 C 0.25 -3.035156 0.429688 -3.648438 0.796875 -4.171875 C 1.160156 -4.691406 1.675781 -4.953125 2.34375 -4.953125 Z \"/>\n",
       "</symbol>\n",
       "<symbol overflow=\"visible\" id=\"glyph0-12\">\n",
       "<path style=\"stroke:none;\" d=\"M 0.59375 -4.84375 L 1.4375 -4.84375 L 1.4375 0 L 0.59375 0 Z M 0.59375 -6.671875 L 1.4375 -6.671875 L 1.4375 -5.75 L 0.59375 -5.75 Z \"/>\n",
       "</symbol>\n",
       "<symbol overflow=\"visible\" id=\"glyph0-13\">\n",
       "<path style=\"stroke:none;\" d=\"M 2.46875 -5 C 3.019531 -5 3.46875 -4.863281 3.8125 -4.59375 C 4.15625 -4.332031 4.363281 -3.878906 4.4375 -3.234375 L 3.640625 -3.234375 C 3.585938 -3.523438 3.472656 -3.769531 3.296875 -3.96875 C 3.128906 -4.164062 2.851562 -4.265625 2.46875 -4.265625 C 1.945312 -4.265625 1.578125 -4.015625 1.359375 -3.515625 C 1.210938 -3.179688 1.140625 -2.769531 1.140625 -2.28125 C 1.140625 -1.800781 1.238281 -1.394531 1.4375 -1.0625 C 1.644531 -0.726562 1.972656 -0.5625 2.421875 -0.5625 C 2.753906 -0.5625 3.019531 -0.664062 3.21875 -0.875 C 3.414062 -1.082031 3.554688 -1.363281 3.640625 -1.71875 L 4.4375 -1.71875 C 4.34375 -1.070312 4.113281 -0.597656 3.75 -0.296875 C 3.382812 -0.00390625 2.921875 0.140625 2.359375 0.140625 C 1.722656 0.140625 1.210938 -0.0859375 0.828125 -0.546875 C 0.453125 -1.015625 0.265625 -1.597656 0.265625 -2.296875 C 0.265625 -3.148438 0.472656 -3.8125 0.890625 -4.28125 C 1.304688 -4.757812 1.832031 -5 2.46875 -5 Z M 2.34375 -4.984375 Z \"/>\n",
       "</symbol>\n",
       "<symbol overflow=\"visible\" id=\"glyph0-14\">\n",
       "<path style=\"stroke:none;\" d=\"M 0.765625 -6.21875 L 1.59375 -6.21875 L 1.59375 -4.859375 L 2.359375 -4.859375 L 2.359375 -4.1875 L 1.59375 -4.1875 L 1.59375 -1.015625 C 1.59375 -0.847656 1.648438 -0.738281 1.765625 -0.6875 C 1.828125 -0.644531 1.929688 -0.625 2.078125 -0.625 C 2.117188 -0.625 2.160156 -0.625 2.203125 -0.625 C 2.253906 -0.632812 2.304688 -0.640625 2.359375 -0.640625 L 2.359375 0 C 2.265625 0.03125 2.164062 0.0507812 2.0625 0.0625 C 1.96875 0.0703125 1.863281 0.078125 1.75 0.078125 C 1.363281 0.078125 1.101562 -0.0195312 0.96875 -0.21875 C 0.832031 -0.414062 0.765625 -0.664062 0.765625 -0.96875 L 0.765625 -4.1875 L 0.109375 -4.1875 L 0.109375 -4.859375 L 0.765625 -4.859375 Z \"/>\n",
       "</symbol>\n",
       "<symbol overflow=\"visible\" id=\"glyph1-0\">\n",
       "<path style=\"stroke:none;\" d=\"M 0.375 0 L 0.375 -8.25 L 6.921875 -8.25 L 6.921875 0 Z M 5.890625 -1.03125 L 5.890625 -7.21875 L 1.40625 -7.21875 L 1.40625 -1.03125 Z \"/>\n",
       "</symbol>\n",
       "<symbol overflow=\"visible\" id=\"glyph1-1\">\n",
       "<path style=\"stroke:none;\" d=\"M 0.734375 -8.28125 L 1.75 -8.28125 L 1.75 -5.203125 C 1.988281 -5.503906 2.203125 -5.71875 2.390625 -5.84375 C 2.722656 -6.050781 3.128906 -6.15625 3.609375 -6.15625 C 4.484375 -6.15625 5.078125 -5.851562 5.390625 -5.25 C 5.554688 -4.914062 5.640625 -4.453125 5.640625 -3.859375 L 5.640625 0 L 4.609375 0 L 4.609375 -3.796875 C 4.609375 -4.234375 4.550781 -4.554688 4.4375 -4.765625 C 4.25 -5.085938 3.90625 -5.25 3.40625 -5.25 C 2.988281 -5.25 2.609375 -5.101562 2.265625 -4.8125 C 1.921875 -4.53125 1.75 -3.988281 1.75 -3.1875 L 1.75 0 L 0.734375 0 Z \"/>\n",
       "</symbol>\n",
       "<symbol overflow=\"visible\" id=\"glyph1-2\">\n",
       "<path style=\"stroke:none;\" d=\"M 3.28125 -0.671875 C 3.75 -0.671875 4.140625 -0.867188 4.453125 -1.265625 C 4.765625 -1.660156 4.921875 -2.253906 4.921875 -3.046875 C 4.921875 -3.523438 4.851562 -3.9375 4.71875 -4.28125 C 4.457031 -4.9375 3.976562 -5.265625 3.28125 -5.265625 C 2.582031 -5.265625 2.101562 -4.914062 1.84375 -4.21875 C 1.707031 -3.84375 1.640625 -3.367188 1.640625 -2.796875 C 1.640625 -2.328125 1.707031 -1.929688 1.84375 -1.609375 C 2.101562 -0.984375 2.582031 -0.671875 3.28125 -0.671875 Z M 0.65625 -5.984375 L 1.640625 -5.984375 L 1.640625 -5.1875 C 1.847656 -5.457031 2.070312 -5.671875 2.3125 -5.828125 C 2.644531 -6.046875 3.046875 -6.15625 3.515625 -6.15625 C 4.191406 -6.15625 4.765625 -5.894531 5.234375 -5.375 C 5.710938 -4.851562 5.953125 -4.109375 5.953125 -3.140625 C 5.953125 -1.828125 5.613281 -0.890625 4.9375 -0.328125 C 4.5 0.0234375 3.992188 0.203125 3.421875 0.203125 C 2.960938 0.203125 2.582031 0.101562 2.28125 -0.09375 C 2.09375 -0.207031 1.890625 -0.398438 1.671875 -0.671875 L 1.671875 2.390625 L 0.65625 2.390625 Z \"/>\n",
       "</symbol>\n",
       "<symbol overflow=\"visible\" id=\"glyph1-3\">\n",
       "<path style=\"stroke:none;\" d=\"M 3.0625 -6.1875 C 3.738281 -6.1875 4.285156 -6.019531 4.703125 -5.6875 C 5.128906 -5.363281 5.390625 -4.800781 5.484375 -4 L 4.5 -4 C 4.4375 -4.363281 4.296875 -4.664062 4.078125 -4.90625 C 3.867188 -5.15625 3.53125 -5.28125 3.0625 -5.28125 C 2.414062 -5.28125 1.953125 -4.96875 1.671875 -4.34375 C 1.492188 -3.9375 1.40625 -3.429688 1.40625 -2.828125 C 1.40625 -2.222656 1.53125 -1.710938 1.78125 -1.296875 C 2.039062 -0.890625 2.445312 -0.6875 3 -0.6875 C 3.414062 -0.6875 3.742188 -0.8125 3.984375 -1.0625 C 4.234375 -1.320312 4.40625 -1.675781 4.5 -2.125 L 5.484375 -2.125 C 5.367188 -1.332031 5.085938 -0.75 4.640625 -0.375 C 4.191406 -0.0078125 3.617188 0.171875 2.921875 0.171875 C 2.128906 0.171875 1.5 -0.113281 1.03125 -0.6875 C 0.5625 -1.257812 0.328125 -1.976562 0.328125 -2.84375 C 0.328125 -3.894531 0.582031 -4.710938 1.09375 -5.296875 C 1.613281 -5.890625 2.269531 -6.1875 3.0625 -6.1875 Z M 2.90625 -6.15625 Z \"/>\n",
       "</symbol>\n",
       "<symbol overflow=\"visible\" id=\"glyph1-4\">\n",
       "<path style=\"stroke:none;\" d=\"M 3.125 -0.65625 C 3.800781 -0.65625 4.257812 -0.90625 4.5 -1.40625 C 4.75 -1.914062 4.875 -2.484375 4.875 -3.109375 C 4.875 -3.671875 4.785156 -4.125 4.609375 -4.46875 C 4.328125 -5.03125 3.835938 -5.3125 3.140625 -5.3125 C 2.523438 -5.3125 2.078125 -5.070312 1.796875 -4.59375 C 1.515625 -4.125 1.375 -3.554688 1.375 -2.890625 C 1.375 -2.253906 1.515625 -1.722656 1.796875 -1.296875 C 2.078125 -0.867188 2.519531 -0.65625 3.125 -0.65625 Z M 3.171875 -6.1875 C 3.941406 -6.1875 4.59375 -5.925781 5.125 -5.40625 C 5.664062 -4.894531 5.9375 -4.140625 5.9375 -3.140625 C 5.9375 -2.160156 5.695312 -1.351562 5.21875 -0.71875 C 4.75 -0.09375 4.019531 0.21875 3.03125 0.21875 C 2.207031 0.21875 1.550781 -0.0546875 1.0625 -0.609375 C 0.570312 -1.171875 0.328125 -1.925781 0.328125 -2.875 C 0.328125 -3.882812 0.582031 -4.6875 1.09375 -5.28125 C 1.613281 -5.882812 2.304688 -6.1875 3.171875 -6.1875 Z M 3.140625 -6.15625 Z \"/>\n",
       "</symbol>\n",
       "<symbol overflow=\"visible\" id=\"glyph1-5\">\n",
       "<path style=\"stroke:none;\" d=\"M 0.765625 -8.25 L 1.78125 -8.25 L 1.78125 0 L 0.765625 0 Z \"/>\n",
       "</symbol>\n",
       "<symbol overflow=\"visible\" id=\"glyph1-6\">\n",
       "<path style=\"stroke:none;\" d=\"M 1.75 -6.015625 L 1.75 -2.015625 C 1.75 -1.710938 1.796875 -1.460938 1.890625 -1.265625 C 2.078125 -0.910156 2.414062 -0.734375 2.90625 -0.734375 C 3.601562 -0.734375 4.082031 -1.046875 4.34375 -1.671875 C 4.476562 -2.003906 4.546875 -2.46875 4.546875 -3.0625 L 4.546875 -6.015625 L 5.5625 -6.015625 L 5.5625 0 L 4.609375 0 L 4.609375 -0.890625 C 4.484375 -0.660156 4.320312 -0.46875 4.125 -0.3125 C 3.738281 0 3.269531 0.15625 2.71875 0.15625 C 1.863281 0.15625 1.28125 -0.128906 0.96875 -0.703125 C 0.800781 -1.003906 0.71875 -1.410156 0.71875 -1.921875 L 0.71875 -6.015625 Z M 3.140625 -6.15625 Z \"/>\n",
       "</symbol>\n",
       "<symbol overflow=\"visible\" id=\"glyph1-7\">\n",
       "<path style=\"stroke:none;\" d=\"M 0.765625 -6.015625 L 1.734375 -6.015625 L 1.734375 -4.96875 C 1.804688 -5.175781 1.992188 -5.425781 2.296875 -5.71875 C 2.609375 -6.007812 2.96875 -6.15625 3.375 -6.15625 C 3.382812 -6.15625 3.410156 -6.148438 3.453125 -6.140625 C 3.503906 -6.140625 3.582031 -6.132812 3.6875 -6.125 L 3.6875 -5.046875 C 3.632812 -5.066406 3.582031 -5.078125 3.53125 -5.078125 C 3.476562 -5.078125 3.421875 -5.078125 3.359375 -5.078125 C 2.847656 -5.078125 2.457031 -4.910156 2.1875 -4.578125 C 1.914062 -4.253906 1.78125 -3.878906 1.78125 -3.453125 L 1.78125 0 L 0.765625 0 Z \"/>\n",
       "</symbol>\n",
       "<symbol overflow=\"visible\" id=\"glyph2-0\">\n",
       "<path style=\"stroke:none;\" d=\"M 0 -0.375 L -8.25 -0.375 L -8.25 -6.921875 L 0 -6.921875 Z M -1.03125 -5.890625 L -7.21875 -5.890625 L -7.21875 -1.40625 L -1.03125 -1.40625 Z \"/>\n",
       "</symbol>\n",
       "<symbol overflow=\"visible\" id=\"glyph2-1\">\n",
       "<path style=\"stroke:none;\" d=\"M -6.015625 -0.734375 L -6.015625 -1.734375 L -5.15625 -1.734375 C -5.457031 -1.972656 -5.675781 -2.191406 -5.8125 -2.390625 C -6.039062 -2.722656 -6.15625 -3.101562 -6.15625 -3.53125 C -6.15625 -4.007812 -6.035156 -4.394531 -5.796875 -4.6875 C -5.660156 -4.851562 -5.460938 -5 -5.203125 -5.125 C -5.523438 -5.351562 -5.765625 -5.617188 -5.921875 -5.921875 C -6.078125 -6.222656 -6.15625 -6.566406 -6.15625 -6.953125 C -6.15625 -7.753906 -5.859375 -8.300781 -5.265625 -8.59375 C -4.953125 -8.75 -4.53125 -8.828125 -4 -8.828125 L 0 -8.828125 L 0 -7.78125 L -4.171875 -7.78125 C -4.578125 -7.78125 -4.851562 -7.679688 -5 -7.484375 C -5.15625 -7.285156 -5.234375 -7.039062 -5.234375 -6.75 C -5.234375 -6.351562 -5.097656 -6.007812 -4.828125 -5.71875 C -4.566406 -5.4375 -4.125 -5.296875 -3.5 -5.296875 L 0 -5.296875 L 0 -4.265625 L -3.921875 -4.265625 C -4.328125 -4.265625 -4.625 -4.21875 -4.8125 -4.125 C -5.09375 -3.96875 -5.234375 -3.679688 -5.234375 -3.265625 C -5.234375 -2.878906 -5.085938 -2.53125 -4.796875 -2.21875 C -4.503906 -1.90625 -3.96875 -1.75 -3.1875 -1.75 L 0 -1.75 L 0 -0.734375 Z \"/>\n",
       "</symbol>\n",
       "<symbol overflow=\"visible\" id=\"glyph2-2\">\n",
       "<path style=\"stroke:none;\" d=\"M -0.671875 -3.28125 C -0.671875 -3.75 -0.867188 -4.140625 -1.265625 -4.453125 C -1.660156 -4.765625 -2.253906 -4.921875 -3.046875 -4.921875 C -3.523438 -4.921875 -3.9375 -4.851562 -4.28125 -4.71875 C -4.9375 -4.457031 -5.265625 -3.976562 -5.265625 -3.28125 C -5.265625 -2.582031 -4.914062 -2.101562 -4.21875 -1.84375 C -3.84375 -1.707031 -3.367188 -1.640625 -2.796875 -1.640625 C -2.328125 -1.640625 -1.929688 -1.707031 -1.609375 -1.84375 C -0.984375 -2.101562 -0.671875 -2.582031 -0.671875 -3.28125 Z M -5.984375 -0.65625 L -5.984375 -1.640625 L -5.1875 -1.640625 C -5.457031 -1.847656 -5.671875 -2.070312 -5.828125 -2.3125 C -6.046875 -2.644531 -6.15625 -3.046875 -6.15625 -3.515625 C -6.15625 -4.191406 -5.894531 -4.765625 -5.375 -5.234375 C -4.851562 -5.710938 -4.109375 -5.953125 -3.140625 -5.953125 C -1.828125 -5.953125 -0.890625 -5.613281 -0.328125 -4.9375 C 0.0234375 -4.5 0.203125 -3.992188 0.203125 -3.421875 C 0.203125 -2.960938 0.101562 -2.582031 -0.09375 -2.28125 C -0.207031 -2.09375 -0.398438 -1.890625 -0.671875 -1.671875 L 2.390625 -1.671875 L 2.390625 -0.65625 Z \"/>\n",
       "</symbol>\n",
       "<symbol overflow=\"visible\" id=\"glyph2-3\">\n",
       "<path style=\"stroke:none;\" d=\"M -6.125 -2.859375 C -6.125 -3.335938 -6.003906 -3.75 -5.765625 -4.09375 C -5.640625 -4.289062 -5.453125 -4.488281 -5.203125 -4.6875 L -5.953125 -4.6875 L -5.953125 -5.609375 L -0.484375 -5.609375 C 0.273438 -5.609375 0.875 -5.5 1.3125 -5.28125 C 2.132812 -4.863281 2.546875 -4.070312 2.546875 -2.90625 C 2.546875 -2.257812 2.398438 -1.710938 2.109375 -1.265625 C 1.816406 -0.828125 1.363281 -0.582031 0.75 -0.53125 L 0.75 -1.5625 C 1.019531 -1.601562 1.226562 -1.695312 1.375 -1.84375 C 1.59375 -2.070312 1.703125 -2.429688 1.703125 -2.921875 C 1.703125 -3.703125 1.429688 -4.210938 0.890625 -4.453125 C 0.566406 -4.585938 -0.0078125 -4.648438 -0.84375 -4.640625 C -0.53125 -4.441406 -0.296875 -4.195312 -0.140625 -3.90625 C 0.00390625 -3.625 0.078125 -3.25 0.078125 -2.78125 C 0.078125 -2.132812 -0.148438 -1.566406 -0.609375 -1.078125 C -1.078125 -0.585938 -1.847656 -0.34375 -2.921875 -0.34375 C -3.921875 -0.34375 -4.703125 -0.585938 -5.265625 -1.078125 C -5.835938 -1.566406 -6.125 -2.160156 -6.125 -2.859375 Z M -3.03125 -4.6875 C -3.78125 -4.6875 -4.332031 -4.53125 -4.6875 -4.21875 C -5.050781 -3.914062 -5.234375 -3.523438 -5.234375 -3.046875 C -5.234375 -2.335938 -4.898438 -1.851562 -4.234375 -1.59375 C -3.867188 -1.445312 -3.398438 -1.375 -2.828125 -1.375 C -2.148438 -1.375 -1.632812 -1.507812 -1.28125 -1.78125 C -0.925781 -2.0625 -0.75 -2.4375 -0.75 -2.90625 C -0.75 -3.632812 -1.078125 -4.144531 -1.734375 -4.4375 C -2.109375 -4.601562 -2.539062 -4.6875 -3.03125 -4.6875 Z M -6.15625 -2.984375 Z \"/>\n",
       "</symbol>\n",
       "</g>\n",
       "<clipPath id=\"clip1\">\n",
       "  <path d=\"M 35.578125 5.480469 L 417 5.480469 L 417 473 L 35.578125 473 Z \"/>\n",
       "</clipPath>\n",
       "<clipPath id=\"clip2\">\n",
       "  <path d=\"M 35.578125 412 L 417 412 L 417 414 L 35.578125 414 Z \"/>\n",
       "</clipPath>\n",
       "<clipPath id=\"clip3\">\n",
       "  <path d=\"M 35.578125 322 L 417 322 L 417 324 L 35.578125 324 Z \"/>\n",
       "</clipPath>\n",
       "<clipPath id=\"clip4\">\n",
       "  <path d=\"M 35.578125 232 L 417 232 L 417 233 L 35.578125 233 Z \"/>\n",
       "</clipPath>\n",
       "<clipPath id=\"clip5\">\n",
       "  <path d=\"M 35.578125 141 L 417 141 L 417 143 L 35.578125 143 Z \"/>\n",
       "</clipPath>\n",
       "<clipPath id=\"clip6\">\n",
       "  <path d=\"M 35.578125 51 L 417 51 L 417 53 L 35.578125 53 Z \"/>\n",
       "</clipPath>\n",
       "<clipPath id=\"clip7\">\n",
       "  <path d=\"M 75 5.480469 L 77 5.480469 L 77 473 L 75 473 Z \"/>\n",
       "</clipPath>\n",
       "<clipPath id=\"clip8\">\n",
       "  <path d=\"M 191 5.480469 L 192 5.480469 L 192 473 L 191 473 Z \"/>\n",
       "</clipPath>\n",
       "<clipPath id=\"clip9\">\n",
       "  <path d=\"M 306 5.480469 L 308 5.480469 L 308 473 L 306 473 Z \"/>\n",
       "</clipPath>\n",
       "<clipPath id=\"clip10\">\n",
       "  <path d=\"M 35.578125 457 L 417.550781 457 L 417.550781 459 L 35.578125 459 Z \"/>\n",
       "</clipPath>\n",
       "<clipPath id=\"clip11\">\n",
       "  <path d=\"M 35.578125 367 L 417.550781 367 L 417.550781 369 L 35.578125 369 Z \"/>\n",
       "</clipPath>\n",
       "<clipPath id=\"clip12\">\n",
       "  <path d=\"M 35.578125 276 L 417.550781 276 L 417.550781 279 L 35.578125 279 Z \"/>\n",
       "</clipPath>\n",
       "<clipPath id=\"clip13\">\n",
       "  <path d=\"M 35.578125 186 L 417.550781 186 L 417.550781 189 L 35.578125 189 Z \"/>\n",
       "</clipPath>\n",
       "<clipPath id=\"clip14\">\n",
       "  <path d=\"M 35.578125 96 L 417.550781 96 L 417.550781 98 L 35.578125 98 Z \"/>\n",
       "</clipPath>\n",
       "<clipPath id=\"clip15\">\n",
       "  <path d=\"M 35.578125 6 L 417.550781 6 L 417.550781 8 L 35.578125 8 Z \"/>\n",
       "</clipPath>\n",
       "<clipPath id=\"clip16\">\n",
       "  <path d=\"M 132 5.480469 L 135 5.480469 L 135 473 L 132 473 Z \"/>\n",
       "</clipPath>\n",
       "<clipPath id=\"clip17\">\n",
       "  <path d=\"M 248 5.480469 L 250 5.480469 L 250 473 L 248 473 Z \"/>\n",
       "</clipPath>\n",
       "<clipPath id=\"clip18\">\n",
       "  <path d=\"M 363 5.480469 L 366 5.480469 L 366 473 L 363 473 Z \"/>\n",
       "</clipPath>\n",
       "</defs>\n",
       "<g id=\"surface192\">\n",
       "<rect x=\"0\" y=\"0\" width=\"504\" height=\"504\" style=\"fill:rgb(100%,100%,100%);fill-opacity:1;stroke:none;\"/>\n",
       "<rect x=\"0\" y=\"0\" width=\"504\" height=\"504\" style=\"fill:rgb(100%,100%,100%);fill-opacity:1;stroke:none;\"/>\n",
       "<path style=\"fill:none;stroke-width:1.422638;stroke-linecap:round;stroke-linejoin:round;stroke:rgb(100%,100%,100%);stroke-opacity:1;stroke-miterlimit:10;\" d=\"M 0 0 L 504 0 L 504 504 L 0 504 Z \"/>\n",
       "<g clip-path=\"url(#clip1)\" clip-rule=\"nonzero\">\n",
       "<path style=\" stroke:none;fill-rule:nonzero;fill:rgb(92.156863%,92.156863%,92.156863%);fill-opacity:1;\" d=\"M 35.578125 5.480469 L 416.550781 5.480469 L 416.550781 472.09375 L 35.578125 472.09375 Z \"/>\n",
       "</g>\n",
       "<g clip-path=\"url(#clip2)\" clip-rule=\"nonzero\">\n",
       "<path style=\"fill:none;stroke-width:0.711319;stroke-linecap:butt;stroke-linejoin:round;stroke:rgb(100%,100%,100%);stroke-opacity:1;stroke-miterlimit:10;\" d=\"M 35.578125 412.976562 L 416.550781 412.976562 \"/>\n",
       "</g>\n",
       "<g clip-path=\"url(#clip3)\" clip-rule=\"nonzero\">\n",
       "<path style=\"fill:none;stroke-width:0.711319;stroke-linecap:butt;stroke-linejoin:round;stroke:rgb(100%,100%,100%);stroke-opacity:1;stroke-miterlimit:10;\" d=\"M 35.578125 322.722656 L 416.550781 322.722656 \"/>\n",
       "</g>\n",
       "<g clip-path=\"url(#clip4)\" clip-rule=\"nonzero\">\n",
       "<path style=\"fill:none;stroke-width:0.711319;stroke-linecap:butt;stroke-linejoin:round;stroke:rgb(100%,100%,100%);stroke-opacity:1;stroke-miterlimit:10;\" d=\"M 35.578125 232.46875 L 416.550781 232.46875 \"/>\n",
       "</g>\n",
       "<g clip-path=\"url(#clip5)\" clip-rule=\"nonzero\">\n",
       "<path style=\"fill:none;stroke-width:0.711319;stroke-linecap:butt;stroke-linejoin:round;stroke:rgb(100%,100%,100%);stroke-opacity:1;stroke-miterlimit:10;\" d=\"M 35.578125 142.214844 L 416.550781 142.214844 \"/>\n",
       "</g>\n",
       "<g clip-path=\"url(#clip6)\" clip-rule=\"nonzero\">\n",
       "<path style=\"fill:none;stroke-width:0.711319;stroke-linecap:butt;stroke-linejoin:round;stroke:rgb(100%,100%,100%);stroke-opacity:1;stroke-miterlimit:10;\" d=\"M 35.578125 51.960938 L 416.550781 51.960938 \"/>\n",
       "</g>\n",
       "<g clip-path=\"url(#clip7)\" clip-rule=\"nonzero\">\n",
       "<path style=\"fill:none;stroke-width:0.711319;stroke-linecap:butt;stroke-linejoin:round;stroke:rgb(100%,100%,100%);stroke-opacity:1;stroke-miterlimit:10;\" d=\"M 75.984375 472.09375 L 75.984375 5.480469 \"/>\n",
       "</g>\n",
       "<g clip-path=\"url(#clip8)\" clip-rule=\"nonzero\">\n",
       "<path style=\"fill:none;stroke-width:0.711319;stroke-linecap:butt;stroke-linejoin:round;stroke:rgb(100%,100%,100%);stroke-opacity:1;stroke-miterlimit:10;\" d=\"M 191.429688 472.09375 L 191.429688 5.480469 \"/>\n",
       "</g>\n",
       "<g clip-path=\"url(#clip9)\" clip-rule=\"nonzero\">\n",
       "<path style=\"fill:none;stroke-width:0.711319;stroke-linecap:butt;stroke-linejoin:round;stroke:rgb(100%,100%,100%);stroke-opacity:1;stroke-miterlimit:10;\" d=\"M 306.878906 472.09375 L 306.878906 5.480469 \"/>\n",
       "</g>\n",
       "<g clip-path=\"url(#clip10)\" clip-rule=\"nonzero\">\n",
       "<path style=\"fill:none;stroke-width:1.422638;stroke-linecap:butt;stroke-linejoin:round;stroke:rgb(100%,100%,100%);stroke-opacity:1;stroke-miterlimit:10;\" d=\"M 35.578125 458.101562 L 416.550781 458.101562 \"/>\n",
       "</g>\n",
       "<g clip-path=\"url(#clip11)\" clip-rule=\"nonzero\">\n",
       "<path style=\"fill:none;stroke-width:1.422638;stroke-linecap:butt;stroke-linejoin:round;stroke:rgb(100%,100%,100%);stroke-opacity:1;stroke-miterlimit:10;\" d=\"M 35.578125 367.847656 L 416.550781 367.847656 \"/>\n",
       "</g>\n",
       "<g clip-path=\"url(#clip12)\" clip-rule=\"nonzero\">\n",
       "<path style=\"fill:none;stroke-width:1.422638;stroke-linecap:butt;stroke-linejoin:round;stroke:rgb(100%,100%,100%);stroke-opacity:1;stroke-miterlimit:10;\" d=\"M 35.578125 277.59375 L 416.550781 277.59375 \"/>\n",
       "</g>\n",
       "<g clip-path=\"url(#clip13)\" clip-rule=\"nonzero\">\n",
       "<path style=\"fill:none;stroke-width:1.422638;stroke-linecap:butt;stroke-linejoin:round;stroke:rgb(100%,100%,100%);stroke-opacity:1;stroke-miterlimit:10;\" d=\"M 35.578125 187.339844 L 416.550781 187.339844 \"/>\n",
       "</g>\n",
       "<g clip-path=\"url(#clip14)\" clip-rule=\"nonzero\">\n",
       "<path style=\"fill:none;stroke-width:1.422638;stroke-linecap:butt;stroke-linejoin:round;stroke:rgb(100%,100%,100%);stroke-opacity:1;stroke-miterlimit:10;\" d=\"M 35.578125 97.085938 L 416.550781 97.085938 \"/>\n",
       "</g>\n",
       "<g clip-path=\"url(#clip15)\" clip-rule=\"nonzero\">\n",
       "<path style=\"fill:none;stroke-width:1.422638;stroke-linecap:butt;stroke-linejoin:round;stroke:rgb(100%,100%,100%);stroke-opacity:1;stroke-miterlimit:10;\" d=\"M 35.578125 6.832031 L 416.550781 6.832031 \"/>\n",
       "</g>\n",
       "<g clip-path=\"url(#clip16)\" clip-rule=\"nonzero\">\n",
       "<path style=\"fill:none;stroke-width:1.422638;stroke-linecap:butt;stroke-linejoin:round;stroke:rgb(100%,100%,100%);stroke-opacity:1;stroke-miterlimit:10;\" d=\"M 133.707031 472.09375 L 133.707031 5.480469 \"/>\n",
       "</g>\n",
       "<g clip-path=\"url(#clip17)\" clip-rule=\"nonzero\">\n",
       "<path style=\"fill:none;stroke-width:1.422638;stroke-linecap:butt;stroke-linejoin:round;stroke:rgb(100%,100%,100%);stroke-opacity:1;stroke-miterlimit:10;\" d=\"M 249.152344 472.09375 L 249.152344 5.480469 \"/>\n",
       "</g>\n",
       "<g clip-path=\"url(#clip18)\" clip-rule=\"nonzero\">\n",
       "<path style=\"fill:none;stroke-width:1.422638;stroke-linecap:butt;stroke-linejoin:round;stroke:rgb(100%,100%,100%);stroke-opacity:1;stroke-miterlimit:10;\" d=\"M 364.601562 472.09375 L 364.601562 5.480469 \"/>\n",
       "</g>\n",
       "<path style=\"fill-rule:nonzero;fill:rgb(97.254902%,46.27451%,42.745098%);fill-opacity:1;stroke-width:0.944882;stroke-linecap:round;stroke-linejoin:round;stroke:rgb(97.254902%,46.27451%,42.745098%);stroke-opacity:1;stroke-miterlimit:10;\" d=\"M 189.265625 317.304688 C 189.265625 320.578125 184.359375 320.578125 184.359375 317.304688 C 184.359375 314.035156 189.265625 314.035156 189.265625 317.304688 \"/>\n",
       "<path style=\"fill-rule:nonzero;fill:rgb(97.254902%,46.27451%,42.745098%);fill-opacity:1;stroke-width:0.944882;stroke-linecap:round;stroke-linejoin:round;stroke:rgb(97.254902%,46.27451%,42.745098%);stroke-opacity:1;stroke-miterlimit:10;\" d=\"M 378.601562 450.882812 C 378.601562 454.15625 373.691406 454.15625 373.691406 450.882812 C 373.691406 447.609375 378.601562 447.609375 378.601562 450.882812 \"/>\n",
       "<path style=\"fill-rule:nonzero;fill:rgb(97.254902%,46.27451%,42.745098%);fill-opacity:1;stroke-width:0.944882;stroke-linecap:round;stroke-linejoin:round;stroke:rgb(97.254902%,46.27451%,42.745098%);stroke-opacity:1;stroke-miterlimit:10;\" d=\"M 401.691406 450.882812 C 401.691406 454.15625 396.78125 454.15625 396.78125 450.882812 C 396.78125 447.609375 401.691406 447.609375 401.691406 450.882812 \"/>\n",
       "<path style=\"fill-rule:nonzero;fill:rgb(97.254902%,46.27451%,42.745098%);fill-opacity:1;stroke-width:0.944882;stroke-linecap:round;stroke-linejoin:round;stroke:rgb(97.254902%,46.27451%,42.745098%);stroke-opacity:1;stroke-miterlimit:10;\" d=\"M 55.347656 26.6875 C 55.347656 29.960938 50.441406 29.960938 50.441406 26.6875 C 50.441406 23.417969 55.347656 23.417969 55.347656 26.6875 \"/>\n",
       "<path style=\"fill-rule:nonzero;fill:rgb(97.254902%,46.27451%,42.745098%);fill-opacity:1;stroke-width:0.944882;stroke-linecap:round;stroke-linejoin:round;stroke:rgb(97.254902%,46.27451%,42.745098%);stroke-opacity:1;stroke-miterlimit:10;\" d=\"M 156.941406 252.324219 C 156.941406 255.597656 152.03125 255.597656 152.03125 252.324219 C 152.03125 249.050781 156.941406 249.050781 156.941406 252.324219 \"/>\n",
       "<path style=\"fill:none;stroke-width:1.422638;stroke-linecap:butt;stroke-linejoin:round;stroke:rgb(97.254902%,46.27451%,42.745098%);stroke-opacity:1;stroke-miterlimit:10;\" d=\"M 52.894531 26.6875 L 154.488281 252.324219 L 186.8125 317.304688 L 376.144531 450.882812 L 399.234375 450.882812 \"/>\n",
       "<path style=\"fill-rule:nonzero;fill:rgb(0%,74.901961%,76.862745%);fill-opacity:1;stroke-width:0.944882;stroke-linecap:round;stroke-linejoin:round;stroke:rgb(0%,74.901961%,76.862745%);stroke-opacity:1;stroke-miterlimit:10;\" d=\"M 189.265625 245.75 C 189.265625 249.023438 184.359375 249.023438 184.359375 245.75 C 184.359375 242.476562 189.265625 242.476562 189.265625 245.75 \"/>\n",
       "<path style=\"fill-rule:nonzero;fill:rgb(0%,74.901961%,76.862745%);fill-opacity:1;stroke-width:0.944882;stroke-linecap:round;stroke-linejoin:round;stroke:rgb(0%,74.901961%,76.862745%);stroke-opacity:1;stroke-miterlimit:10;\" d=\"M 378.601562 332.917969 C 378.601562 336.191406 373.691406 336.191406 373.691406 332.917969 C 373.691406 329.644531 378.601562 329.644531 378.601562 332.917969 \"/>\n",
       "<path style=\"fill-rule:nonzero;fill:rgb(0%,74.901961%,76.862745%);fill-opacity:1;stroke-width:0.944882;stroke-linecap:round;stroke-linejoin:round;stroke:rgb(0%,74.901961%,76.862745%);stroke-opacity:1;stroke-miterlimit:10;\" d=\"M 401.691406 343.546875 C 401.691406 346.820312 396.78125 346.820312 396.78125 343.546875 C 396.78125 340.273438 401.691406 340.273438 401.691406 343.546875 \"/>\n",
       "<path style=\"fill-rule:nonzero;fill:rgb(0%,74.901961%,76.862745%);fill-opacity:1;stroke-width:0.944882;stroke-linecap:round;stroke-linejoin:round;stroke:rgb(0%,74.901961%,76.862745%);stroke-opacity:1;stroke-miterlimit:10;\" d=\"M 55.347656 184.097656 C 55.347656 187.371094 50.441406 187.371094 50.441406 184.097656 C 50.441406 180.824219 55.347656 180.824219 55.347656 184.097656 \"/>\n",
       "<path style=\"fill-rule:nonzero;fill:rgb(0%,74.901961%,76.862745%);fill-opacity:1;stroke-width:0.944882;stroke-linecap:round;stroke-linejoin:round;stroke:rgb(0%,74.901961%,76.862745%);stroke-opacity:1;stroke-miterlimit:10;\" d=\"M 156.941406 230.867188 C 156.941406 234.140625 152.03125 234.140625 152.03125 230.867188 C 152.03125 227.597656 156.941406 227.597656 156.941406 230.867188 \"/>\n",
       "<path style=\"fill:none;stroke-width:1.422638;stroke-linecap:butt;stroke-linejoin:round;stroke:rgb(0%,74.901961%,76.862745%);stroke-opacity:1;stroke-miterlimit:10;\" d=\"M 52.894531 184.097656 L 154.488281 230.867188 L 186.8125 245.75 L 376.144531 332.917969 L 399.234375 343.546875 \"/>\n",
       "<g style=\"fill:rgb(30.196078%,30.196078%,30.196078%);fill-opacity:1;\">\n",
       "  <use xlink:href=\"#glyph0-1\" x=\"20.304688\" y=\"461.4375\"/>\n",
       "  <use xlink:href=\"#glyph0-2\" x=\"25.475174\" y=\"461.4375\"/>\n",
       "</g>\n",
       "<g style=\"fill:rgb(30.196078%,30.196078%,30.196078%);fill-opacity:1;\">\n",
       "  <use xlink:href=\"#glyph0-1\" x=\"20.304688\" y=\"371.183594\"/>\n",
       "  <use xlink:href=\"#glyph0-3\" x=\"25.475174\" y=\"371.183594\"/>\n",
       "</g>\n",
       "<g style=\"fill:rgb(30.196078%,30.196078%,30.196078%);fill-opacity:1;\">\n",
       "  <use xlink:href=\"#glyph0-4\" x=\"20.304688\" y=\"280.929688\"/>\n",
       "  <use xlink:href=\"#glyph0-2\" x=\"25.475174\" y=\"280.929688\"/>\n",
       "</g>\n",
       "<g style=\"fill:rgb(30.196078%,30.196078%,30.196078%);fill-opacity:1;\">\n",
       "  <use xlink:href=\"#glyph0-4\" x=\"20.304688\" y=\"190.675781\"/>\n",
       "  <use xlink:href=\"#glyph0-3\" x=\"25.475174\" y=\"190.675781\"/>\n",
       "</g>\n",
       "<g style=\"fill:rgb(30.196078%,30.196078%,30.196078%);fill-opacity:1;\">\n",
       "  <use xlink:href=\"#glyph0-5\" x=\"20.304688\" y=\"100.421875\"/>\n",
       "  <use xlink:href=\"#glyph0-2\" x=\"25.475174\" y=\"100.421875\"/>\n",
       "</g>\n",
       "<g style=\"fill:rgb(30.196078%,30.196078%,30.196078%);fill-opacity:1;\">\n",
       "  <use xlink:href=\"#glyph0-5\" x=\"20.304688\" y=\"10.167969\"/>\n",
       "  <use xlink:href=\"#glyph0-3\" x=\"25.475174\" y=\"10.167969\"/>\n",
       "</g>\n",
       "<path style=\"fill:none;stroke-width:1.422638;stroke-linecap:butt;stroke-linejoin:round;stroke:rgb(20%,20%,20%);stroke-opacity:1;stroke-miterlimit:10;\" d=\"M 32.835938 458.101562 L 35.578125 458.101562 \"/>\n",
       "<path style=\"fill:none;stroke-width:1.422638;stroke-linecap:butt;stroke-linejoin:round;stroke:rgb(20%,20%,20%);stroke-opacity:1;stroke-miterlimit:10;\" d=\"M 32.835938 367.847656 L 35.578125 367.847656 \"/>\n",
       "<path style=\"fill:none;stroke-width:1.422638;stroke-linecap:butt;stroke-linejoin:round;stroke:rgb(20%,20%,20%);stroke-opacity:1;stroke-miterlimit:10;\" d=\"M 32.835938 277.59375 L 35.578125 277.59375 \"/>\n",
       "<path style=\"fill:none;stroke-width:1.422638;stroke-linecap:butt;stroke-linejoin:round;stroke:rgb(20%,20%,20%);stroke-opacity:1;stroke-miterlimit:10;\" d=\"M 32.835938 187.339844 L 35.578125 187.339844 \"/>\n",
       "<path style=\"fill:none;stroke-width:1.422638;stroke-linecap:butt;stroke-linejoin:round;stroke:rgb(20%,20%,20%);stroke-opacity:1;stroke-miterlimit:10;\" d=\"M 32.835938 97.085938 L 35.578125 97.085938 \"/>\n",
       "<path style=\"fill:none;stroke-width:1.422638;stroke-linecap:butt;stroke-linejoin:round;stroke:rgb(20%,20%,20%);stroke-opacity:1;stroke-miterlimit:10;\" d=\"M 32.835938 6.832031 L 35.578125 6.832031 \"/>\n",
       "<path style=\"fill:none;stroke-width:1.422638;stroke-linecap:butt;stroke-linejoin:round;stroke:rgb(20%,20%,20%);stroke-opacity:1;stroke-miterlimit:10;\" d=\"M 133.707031 474.832031 L 133.707031 472.09375 \"/>\n",
       "<path style=\"fill:none;stroke-width:1.422638;stroke-linecap:butt;stroke-linejoin:round;stroke:rgb(20%,20%,20%);stroke-opacity:1;stroke-miterlimit:10;\" d=\"M 249.152344 474.832031 L 249.152344 472.09375 \"/>\n",
       "<path style=\"fill:none;stroke-width:1.422638;stroke-linecap:butt;stroke-linejoin:round;stroke:rgb(20%,20%,20%);stroke-opacity:1;stroke-miterlimit:10;\" d=\"M 364.601562 474.832031 L 364.601562 472.09375 \"/>\n",
       "<g style=\"fill:rgb(30.196078%,30.196078%,30.196078%);fill-opacity:1;\">\n",
       "  <use xlink:href=\"#glyph0-1\" x=\"125.953125\" y=\"483.695312\"/>\n",
       "  <use xlink:href=\"#glyph0-2\" x=\"131.123611\" y=\"483.695312\"/>\n",
       "  <use xlink:href=\"#glyph0-2\" x=\"136.294098\" y=\"483.695312\"/>\n",
       "</g>\n",
       "<g style=\"fill:rgb(30.196078%,30.196078%,30.196078%);fill-opacity:1;\">\n",
       "  <use xlink:href=\"#glyph0-1\" x=\"241.398438\" y=\"483.695312\"/>\n",
       "  <use xlink:href=\"#glyph0-3\" x=\"246.568924\" y=\"483.695312\"/>\n",
       "  <use xlink:href=\"#glyph0-2\" x=\"251.73941\" y=\"483.695312\"/>\n",
       "</g>\n",
       "<g style=\"fill:rgb(30.196078%,30.196078%,30.196078%);fill-opacity:1;\">\n",
       "  <use xlink:href=\"#glyph0-4\" x=\"356.847656\" y=\"483.695312\"/>\n",
       "  <use xlink:href=\"#glyph0-2\" x=\"362.018143\" y=\"483.695312\"/>\n",
       "  <use xlink:href=\"#glyph0-2\" x=\"367.188629\" y=\"483.695312\"/>\n",
       "</g>\n",
       "<g style=\"fill:rgb(0%,0%,0%);fill-opacity:1;\">\n",
       "  <use xlink:href=\"#glyph1-1\" x=\"219.671875\" y=\"496.328125\"/>\n",
       "  <use xlink:href=\"#glyph1-2\" x=\"226.067627\" y=\"496.328125\"/>\n",
       "</g>\n",
       "<g style=\"fill:rgb(0%,0%,0%);fill-opacity:1;\">\n",
       "  <use xlink:href=\"#glyph2-1\" x=\"15.921875\" y=\"249.972656\"/>\n",
       "  <use xlink:href=\"#glyph2-2\" x=\"15.921875\" y=\"240.393066\"/>\n",
       "  <use xlink:href=\"#glyph2-3\" x=\"15.921875\" y=\"233.997314\"/>\n",
       "</g>\n",
       "<path style=\" stroke:none;fill-rule:nonzero;fill:rgb(100%,100%,100%);fill-opacity:1;\" d=\"M 425.054688 211.144531 L 490.015625 211.144531 L 490.015625 266.425781 L 425.054688 266.425781 Z \"/>\n",
       "<g style=\"fill:rgb(0%,0%,0%);fill-opacity:1;\">\n",
       "  <use xlink:href=\"#glyph1-3\" x=\"429.308594\" y=\"223.46875\"/>\n",
       "  <use xlink:href=\"#glyph1-4\" x=\"435.058594\" y=\"223.46875\"/>\n",
       "  <use xlink:href=\"#glyph1-5\" x=\"441.454346\" y=\"223.46875\"/>\n",
       "  <use xlink:href=\"#glyph1-4\" x=\"444.009277\" y=\"223.46875\"/>\n",
       "  <use xlink:href=\"#glyph1-6\" x=\"450.405029\" y=\"223.46875\"/>\n",
       "  <use xlink:href=\"#glyph1-7\" x=\"456.800781\" y=\"223.46875\"/>\n",
       "</g>\n",
       "<path style=\"fill-rule:nonzero;fill:rgb(94.901961%,94.901961%,94.901961%);fill-opacity:1;stroke-width:1.422638;stroke-linecap:round;stroke-linejoin:round;stroke:rgb(100%,100%,100%);stroke-opacity:1;stroke-miterlimit:10;\" d=\"M 429.308594 227.613281 L 446.589844 227.613281 L 446.589844 244.894531 L 429.308594 244.894531 Z \"/>\n",
       "<path style=\"fill-rule:nonzero;fill:rgb(97.254902%,46.27451%,42.745098%);fill-opacity:1;stroke-width:0.944882;stroke-linecap:round;stroke-linejoin:round;stroke:rgb(97.254902%,46.27451%,42.745098%);stroke-opacity:1;stroke-miterlimit:10;\" d=\"M 440.402344 236.253906 C 440.402344 239.527344 435.492188 239.527344 435.492188 236.253906 C 435.492188 232.980469 440.402344 232.980469 440.402344 236.253906 \"/>\n",
       "<path style=\"fill:none;stroke-width:1.422638;stroke-linecap:butt;stroke-linejoin:round;stroke:rgb(97.254902%,46.27451%,42.745098%);stroke-opacity:1;stroke-miterlimit:10;\" d=\"M 431.035156 236.253906 L 444.859375 236.253906 \"/>\n",
       "<path style=\"fill-rule:nonzero;fill:rgb(97.254902%,46.27451%,42.745098%);fill-opacity:1;stroke-width:0.944882;stroke-linecap:round;stroke-linejoin:round;stroke:rgb(97.254902%,46.27451%,42.745098%);stroke-opacity:1;stroke-miterlimit:10;\" d=\"M 440.402344 236.253906 C 440.402344 239.527344 435.492188 239.527344 435.492188 236.253906 C 435.492188 232.980469 440.402344 232.980469 440.402344 236.253906 \"/>\n",
       "<path style=\"fill:none;stroke-width:1.422638;stroke-linecap:butt;stroke-linejoin:round;stroke:rgb(97.254902%,46.27451%,42.745098%);stroke-opacity:1;stroke-miterlimit:10;\" d=\"M 431.035156 236.253906 L 444.859375 236.253906 \"/>\n",
       "<path style=\"fill-rule:nonzero;fill:rgb(94.901961%,94.901961%,94.901961%);fill-opacity:1;stroke-width:1.422638;stroke-linecap:round;stroke-linejoin:round;stroke:rgb(100%,100%,100%);stroke-opacity:1;stroke-miterlimit:10;\" d=\"M 429.308594 244.894531 L 446.589844 244.894531 L 446.589844 262.175781 L 429.308594 262.175781 Z \"/>\n",
       "<path style=\"fill-rule:nonzero;fill:rgb(0%,74.901961%,76.862745%);fill-opacity:1;stroke-width:0.944882;stroke-linecap:round;stroke-linejoin:round;stroke:rgb(0%,74.901961%,76.862745%);stroke-opacity:1;stroke-miterlimit:10;\" d=\"M 440.402344 253.535156 C 440.402344 256.808594 435.492188 256.808594 435.492188 253.535156 C 435.492188 250.261719 440.402344 250.261719 440.402344 253.535156 \"/>\n",
       "<path style=\"fill:none;stroke-width:1.422638;stroke-linecap:butt;stroke-linejoin:round;stroke:rgb(0%,74.901961%,76.862745%);stroke-opacity:1;stroke-miterlimit:10;\" d=\"M 431.035156 253.535156 L 444.859375 253.535156 \"/>\n",
       "<path style=\"fill-rule:nonzero;fill:rgb(0%,74.901961%,76.862745%);fill-opacity:1;stroke-width:0.944882;stroke-linecap:round;stroke-linejoin:round;stroke:rgb(0%,74.901961%,76.862745%);stroke-opacity:1;stroke-miterlimit:10;\" d=\"M 440.402344 253.535156 C 440.402344 256.808594 435.492188 256.808594 435.492188 253.535156 C 435.492188 250.261719 440.402344 250.261719 440.402344 253.535156 \"/>\n",
       "<path style=\"fill:none;stroke-width:1.422638;stroke-linecap:butt;stroke-linejoin:round;stroke:rgb(0%,74.901961%,76.862745%);stroke-opacity:1;stroke-miterlimit:10;\" d=\"M 431.035156 253.535156 L 444.859375 253.535156 \"/>\n",
       "<g style=\"fill:rgb(0%,0%,0%);fill-opacity:1;\">\n",
       "  <use xlink:href=\"#glyph0-6\" x=\"448.746094\" y=\"239.589844\"/>\n",
       "  <use xlink:href=\"#glyph0-7\" x=\"456.490463\" y=\"239.589844\"/>\n",
       "  <use xlink:href=\"#glyph0-8\" x=\"461.66095\" y=\"239.589844\"/>\n",
       "</g>\n",
       "<g style=\"fill:rgb(0%,0%,0%);fill-opacity:1;\">\n",
       "  <use xlink:href=\"#glyph0-7\" x=\"448.746094\" y=\"256.871094\"/>\n",
       "  <use xlink:href=\"#glyph0-9\" x=\"453.91658\" y=\"256.871094\"/>\n",
       "  <use xlink:href=\"#glyph0-10\" x=\"457.012512\" y=\"256.871094\"/>\n",
       "  <use xlink:href=\"#glyph0-11\" x=\"462.182999\" y=\"256.871094\"/>\n",
       "  <use xlink:href=\"#glyph0-12\" x=\"467.353485\" y=\"256.871094\"/>\n",
       "  <use xlink:href=\"#glyph0-13\" x=\"469.418961\" y=\"256.871094\"/>\n",
       "  <use xlink:href=\"#glyph0-14\" x=\"474.067398\" y=\"256.871094\"/>\n",
       "  <use xlink:href=\"#glyph0-10\" x=\"476.650375\" y=\"256.871094\"/>\n",
       "  <use xlink:href=\"#glyph0-11\" x=\"481.820862\" y=\"256.871094\"/>\n",
       "</g>\n",
       "</g>\n",
       "</svg>\n"
      ],
      "text/plain": [
       "plot without title"
      ]
     },
     "metadata": {
      "image/svg+xml": {
       "isolated": true
      }
     },
     "output_type": "display_data"
    }
   ],
   "source": [
    "library(ggplot2)\n",
    "qplot(hp, mpg, data = test, color = \"mpg\", geom = c('point', 'line')) + \n",
    "geom_point(aes(hp, predicted, color = 'predicted')) + \n",
    "geom_line(aes(hp, predicted, color = \"predicted\"))"
   ]
  }
 ],
 "metadata": {
  "kernelspec": {
   "display_name": "R",
   "language": "R",
   "name": "ir"
  },
  "language_info": {
   "codemirror_mode": "r",
   "file_extension": ".r",
   "mimetype": "text/x-r-source",
   "name": "R",
   "pygments_lexer": "r",
   "version": "3.3.0"
  }
 },
 "nbformat": 4,
 "nbformat_minor": 0
}
